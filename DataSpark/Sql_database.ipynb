{
 "cells": [
  {
   "cell_type": "code",
   "execution_count": 1,
   "id": "dfc53e70",
   "metadata": {},
   "outputs": [],
   "source": [
    "#import libraries\n",
    "import mysql.connector\n",
    "import pandas as pd\n",
    "import numpy as np"
   ]
  },
  {
   "cell_type": "code",
   "execution_count": 5,
   "id": "fa3cf66b",
   "metadata": {},
   "outputs": [
    {
     "name": "stdout",
     "output_type": "stream",
     "text": [
      "database created successfully\n"
     ]
    }
   ],
   "source": [
    "#sql connection\n",
    "mydb=mysql.connector.connect(host=\"localhost\", user=\"root\", password=\"\", database=\"\")\n",
    "my_cursor = mydb.cursor()\n",
    "#my_cursor.execute(\"DROP DATABASE data_spark\")\n",
    "my_cursor.execute(\"CREATE DATABASE IF NOT EXISTS data_spark\")\n",
    "print(\"database created successfully\")"
   ]
  },
  {
   "cell_type": "code",
   "execution_count": 9,
   "id": "8e936fa2",
   "metadata": {},
   "outputs": [],
   "source": [
    "my_cursor.execute(\"USE data_spark\")"
   ]
  },
  {
   "cell_type": "code",
   "execution_count": null,
   "id": "6021c839",
   "metadata": {},
   "outputs": [],
   "source": [
    "df_customers = pd.read_csv(r\"C:/Users/ANUPRIYA/Desktop/DataSpark/Cleaned_data/customer_cleaned.csv\", encoding='latin1') \n",
    "df_exchange_rates = pd.read_csv(r\"C:/Users/ANUPRIYA/Desktop/DataSpark/Cleaned_data/exchange_cleaned.csv\")\n",
    "df_products = pd.read_csv(r\"C:/Users/ANUPRIYA/Desktop/DataSpark/Cleaned_data/product_cleaned.csv\")\n",
    "df_stores = pd.read_csv(r\"C:/Users/ANUPRIYA/Desktop/DataSpark/Cleaned_data/stores_cleaned.csv\")\n",
    "df_sales = pd.read_csv(r\"C:/Users/ANUPRIYA/Desktop/DataSpark/Cleaned_data/sales_cleaned.csv\")"
   ]
  },
  {
   "cell_type": "code",
   "execution_count": 10,
   "id": "ffcced58",
   "metadata": {},
   "outputs": [
    {
     "name": "stdout",
     "output_type": "stream",
     "text": [
      "Table Created successfully\n"
     ]
    }
   ],
   "source": [
    "#customer table creation\n",
    "my_cursor.execute('''CREATE TABLE IF NOT EXISTS customers(\n",
    "                  CustomerKey INT(64),\n",
    "                  Gender VARCHAR(255),\n",
    "                  Name VARCHAR(255),\n",
    "                  City VARCHAR(255),\n",
    "                  State VARCHAR(255),\n",
    "                  Country VARCHAR(255),\n",
    "                  Continent VARCHAR(255),\n",
    "                  Birthday DATE\n",
    "                  )''')\n",
    "print(\"Table Created successfully\")"
   ]
  },
  {
   "cell_type": "code",
   "execution_count": 11,
   "id": "4202531f",
   "metadata": {},
   "outputs": [
    {
     "name": "stdout",
     "output_type": "stream",
     "text": [
      "Inserted successfully\n"
     ]
    }
   ],
   "source": [
    "# insert values into customer table\n",
    "insert_query='''INSERT INTO customers(\n",
    "                  CustomerKey,\n",
    "                  Gender,\n",
    "                  Name,\n",
    "                  City,\n",
    "                  State,\n",
    "                  Country,\n",
    "                  Continent,\n",
    "                  Birthday)\n",
    "                  VALUES(%s,%s,%s,%s,%s,%s,%s,%s)'''\n",
    "data=df_customers.values.tolist()\n",
    "batch_size = 1000  # Adjust this value as needed\n",
    "\n",
    "for i in range(0, len(data), batch_size):\n",
    "    batch_data = data[i:i + batch_size]\n",
    "    try:\n",
    "        # Performing batch insert with executemany()\n",
    "        my_cursor.executemany(insert_query, batch_data)\n",
    "        mydb.commit()\n",
    "    except mysql.connector.Error as err:\n",
    "        if err.errno == mysql.connector.errorcode.CR_SERVER_LOST or err.errno == mysql.connector.errorcode.CR_SERVER_GONE_ERROR:\n",
    "            reconnect()\n",
    "            my_cursor.executemany(insert_query, batch_data)\n",
    "            mydb.commit()\n",
    "print(\"Inserted successfully\")"
   ]
  },
  {
   "cell_type": "code",
   "execution_count": 12,
   "id": "21bb99df",
   "metadata": {},
   "outputs": [
    {
     "name": "stdout",
     "output_type": "stream",
     "text": [
      "Table Created successfully\n",
      "Inserted successfully\n"
     ]
    }
   ],
   "source": [
    "# exchange_rates table creation\n",
    "my_cursor.execute('''CREATE TABLE IF NOT EXISTS exchange_rates(\n",
    "                  Date DATE,\n",
    "                  Currency_Code VARCHAR(255),\n",
    "                  Exchange FLOAT\n",
    "                  )''')\n",
    "print(\"Table Created successfully\")\n",
    "\n",
    "# insert values into exchange_rates table\n",
    "insert_query ='''INSERT INTO exchange_rates(\n",
    "                  Date,\n",
    "                  Currency_Code,\n",
    "                  Exchange)\n",
    "                  VALUES (%s, %s, %s)'''\n",
    "data=df_exchange_rates.values.tolist()\n",
    "batch_size = 1000  # Adjust this value as needed\n",
    "\n",
    "for i in range(0, len(data), batch_size):\n",
    "    batch_data = data[i:i + batch_size]\n",
    "    try:\n",
    "        # Performing batch insert with executemany()\n",
    "        my_cursor.executemany(insert_query, batch_data)\n",
    "        mydb.commit()\n",
    "    except mysql.connector.Error as err:\n",
    "        if err.errno == mysql.connector.errorcode.CR_SERVER_LOST or err.errno == mysql.connector.errorcode.CR_SERVER_GONE_ERROR:\n",
    "            reconnect()\n",
    "            my_cursor.executemany(insert_query, batch_data)\n",
    "            mydb.commit()\n",
    "print(\"Inserted successfully\")"
   ]
  },
  {
   "cell_type": "code",
   "execution_count": 13,
   "id": "62780276",
   "metadata": {},
   "outputs": [
    {
     "name": "stdout",
     "output_type": "stream",
     "text": [
      "Table Created successfully\n",
      "Inserted successfully\n"
     ]
    }
   ],
   "source": [
    "# create Products table \n",
    "my_cursor.execute('''CREATE TABLE IF NOT EXISTS products(\n",
    "                  ProductKey INT(64),\n",
    "                  Product_Name VARCHAR(255),\n",
    "                  Brand VARCHAR(255),\n",
    "                  Color VARCHAR(255),\n",
    "                  Unit_Cost_USD FLOAT,\n",
    "                  Unit_Price_USD FLOAT,\n",
    "                  Subcategory VARCHAR(255),\n",
    "                  CategoryKey INT(64),\n",
    "                  Category VARCHAR(255)\n",
    "                  )''')\n",
    "print(\"Table Created successfully\")\n",
    "\n",
    "#insert values into Products table\n",
    "insert_query ='''INSERT INTO products(\n",
    "                  ProductKey,\n",
    "                  Product_Name,\n",
    "                  Brand,\n",
    "                  Color,\n",
    "                  Unit_Cost_USD,\n",
    "                  Unit_Price_USD,\n",
    "                  Subcategory,\n",
    "                  CategoryKey,\n",
    "                  Category)\n",
    "                  VALUES (%s, %s, %s, %s, %s, %s, %s, %s,%s)'''\n",
    "data=df_products.values.tolist()\n",
    "batch_size = 1000  # Adjust this value as needed\n",
    "\n",
    "for i in range(0, len(data), batch_size):\n",
    "    batch_data = data[i:i + batch_size]\n",
    "    try:\n",
    "        # Performing batch insert with executemany()\n",
    "        my_cursor.executemany(insert_query, batch_data)\n",
    "        mydb.commit()\n",
    "    except mysql.connector.Error as err:\n",
    "        if err.errno == mysql.connector.errorcode.CR_SERVER_LOST or err.errno == mysql.connector.errorcode.CR_SERVER_GONE_ERROR:\n",
    "            reconnect()\n",
    "            my_cursor.executemany(insert_query, batch_data)\n",
    "            mydb.commit()\n",
    "print(\"Inserted successfully\")"
   ]
  },
  {
   "cell_type": "code",
   "execution_count": 14,
   "id": "0b13ba22",
   "metadata": {},
   "outputs": [
    {
     "name": "stdout",
     "output_type": "stream",
     "text": [
      "Table Created successfully\n",
      "Inserted successfully\n"
     ]
    }
   ],
   "source": [
    "#sales table creation\n",
    "my_cursor.execute('''CREATE TABLE IF NOT EXISTS sales(\n",
    "                  Order_Number INT(64),\n",
    "                  Line_Item INT(64),\n",
    "                  Order_Date DATE,\n",
    "                  Delivery_Date DATE,\n",
    "                  CustomerKey INT(64),\n",
    "                  StoreKey INT(64),\n",
    "                  ProductKey INT(64),\n",
    "                  Quantity INT(64),\n",
    "                  Currency_Code VARCHAR(255)\n",
    "                  )''')\n",
    "print(\"Table Created successfully\")\n",
    "\n",
    "#insert values into sales table\n",
    "insert_query ='''INSERT INTO sales(\n",
    "                  Order_Number,\n",
    "                  Line_Item,\n",
    "                  Order_Date,\n",
    "                  Delivery_Date,\n",
    "                  CustomerKey,\n",
    "                  StoreKey,\n",
    "                  ProductKey,\n",
    "                  Quantity,\n",
    "                  Currency_Code)\n",
    "                  VALUES (%s, %s, %s, %s, %s, %s, %s, %s,%s)'''\n",
    "data=df_sales.values.tolist()\n",
    "batch_size = 1000  # Adjust this value as needed\n",
    "\n",
    "for i in range(0, len(data), batch_size):\n",
    "    batch_data = data[i:i + batch_size]\n",
    "    try:\n",
    "        # Performing batch insert with executemany()\n",
    "        my_cursor.executemany(insert_query, batch_data)\n",
    "        mydb.commit()\n",
    "    except mysql.connector.Error as err:\n",
    "        if err.errno == mysql.connector.errorcode.CR_SERVER_LOST or err.errno == mysql.connector.errorcode.CR_SERVER_GONE_ERROR:\n",
    "            reconnect()\n",
    "            my_cursor.executemany(insert_query, batch_data)\n",
    "            mydb.commit()\n",
    "print(\"Inserted successfully\")"
   ]
  },
  {
   "cell_type": "code",
   "execution_count": 21,
   "id": "32f29ef9",
   "metadata": {},
   "outputs": [
    {
     "name": "stdout",
     "output_type": "stream",
     "text": [
      "Customer data inserted successfully.\n"
     ]
    }
   ],
   "source": [
    "import pandas as pd\n",
    "import pymysql\n",
    "\n",
    "# Connect to MySQL\n",
    "mydb = pymysql.connect(\n",
    "    host=\"localhost\",\n",
    "    user=\"root\",\n",
    "    password=\"\",\n",
    "    database=\"data_spark\"\n",
    ")\n",
    "my_cursor = mydb.cursor()\n",
    "\n",
    "# Load the dataset (update path accordingly)\n",
    "df_customers = pd.read_csv(\"C:/Users/ANUPRIYA/Desktop/DataSpark/Cleaned_data/stores_cleaned.csv\", encoding='utf-8')\n",
    "\n",
    "# Optional: convert 'Birthday' to datetime format if needed\n",
    "df_customers['Birthday'] = pd.to_datetime(df_customers['Birthday'], errors='coerce')\n",
    "\n",
    "# Replace NaN with None to allow NULLs in MySQL\n",
    "df_customers = df_customers.where(pd.notnull(df_customers), None)\n",
    "\n",
    "# Ensure only required columns are used and in correct order\n",
    "df_customers = df_customers[['CustomerKey', 'Gender', 'Name', 'City', 'State', 'Country', 'Continent', 'Birthday']]\n",
    "\n",
    "# Insert query\n",
    "insert_query = '''\n",
    "    INSERT INTO customers (\n",
    "        CustomerKey,\n",
    "        Gender,\n",
    "        Name,\n",
    "        City,\n",
    "        State,\n",
    "        Country,\n",
    "        Continent,\n",
    "        Birthday\n",
    "    ) VALUES (%s, %s, %s, %s, %s, %s, %s, %s)\n",
    "'''\n",
    "\n",
    "# Convert to list of tuples\n",
    "data = df_customers.values.tolist()\n",
    "\n",
    "# Insert into MySQL\n",
    "my_cursor.executemany(insert_query, data)\n",
    "mydb.commit()\n",
    "\n",
    "print(\"Customer data inserted successfully.\")\n"
   ]
  },
  {
   "cell_type": "code",
   "execution_count": null,
   "id": "6129c6f2",
   "metadata": {},
   "outputs": [],
   "source": []
  }
 ],
 "metadata": {
  "kernelspec": {
   "display_name": "base",
   "language": "python",
   "name": "python3"
  },
  "language_info": {
   "codemirror_mode": {
    "name": "ipython",
    "version": 3
   },
   "file_extension": ".py",
   "mimetype": "text/x-python",
   "name": "python",
   "nbconvert_exporter": "python",
   "pygments_lexer": "ipython3",
   "version": "3.12.4"
  }
 },
 "nbformat": 4,
 "nbformat_minor": 5
}
